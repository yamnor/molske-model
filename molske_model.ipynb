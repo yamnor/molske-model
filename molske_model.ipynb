{
  "nbformat": 4,
  "nbformat_minor": 0,
  "metadata": {
    "colab": {
      "name": "molske-model.ipynb",
      "provenance": [],
      "collapsed_sections": [],
      "authorship_tag": "ABX9TyOmOKopgvW9Kbmi75aEAmUs",
      "include_colab_link": true
    },
    "kernelspec": {
      "name": "python3",
      "display_name": "Python 3"
    },
    "language_info": {
      "name": "python"
    }
  },
  "cells": [
    {
      "cell_type": "markdown",
      "metadata": {
        "id": "view-in-github",
        "colab_type": "text"
      },
      "source": [
        "<a href=\"https://colab.research.google.com/github/yamnor/molske-model/blob/main/molske_model.ipynb\" target=\"_parent\"><img src=\"https://colab.research.google.com/assets/colab-badge.svg\" alt=\"Open In Colab\"/></a>"
      ]
    },
    {
      "cell_type": "code",
      "execution_count": null,
      "metadata": {
        "id": "rSLjKeVMFVMq"
      },
      "outputs": [],
      "source": [
        "!git clone https://github.com/yamnor/molske-model\n",
        "%cd molske-model"
      ]
    },
    {
      "cell_type": "code",
      "source": [
        "!python molske-model.py 1000"
      ],
      "metadata": {
        "id": "HOO-Fgt1FkKe"
      },
      "execution_count": null,
      "outputs": []
    },
    {
      "cell_type": "code",
      "source": [
        "!git clone https://github.com/ultralytics/yolov5\n",
        "%cd yolov5\n",
        "!pip install -r requirements.txt\n",
        "%cd.."
      ],
      "metadata": {
        "id": "uK_Z0DqjFm-D"
      },
      "execution_count": 5,
      "outputs": []
    },
    {
      "cell_type": "code",
      "source": [
        "!pip install wandb"
      ],
      "metadata": {
        "id": "rwkrypp4GW-8"
      },
      "execution_count": null,
      "outputs": []
    },
    {
      "cell_type": "code",
      "source": [
        "!python yolov5/train.py --data dataset/data.yaml --cfg yolov5s.yaml --weights '' --img 640  --epochs 100 --batch-size 64 --device 0 --project 'molske' --name 'train' --exist-ok"
      ],
      "metadata": {
        "id": "iFhKNn-JGcBw"
      },
      "execution_count": null,
      "outputs": []
    },
    {
      "cell_type": "code",
      "source": [
        "!python yolov5/detect.py --source example.jpg --conf 0.5 --weights 'molske/train/weights/best.pt' --project 'molske' --name 'detect' --exist-ok"
      ],
      "metadata": {
        "id": "IXpwQ4pBGdSh"
      },
      "execution_count": null,
      "outputs": []
    }
  ]
}